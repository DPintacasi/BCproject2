{
 "cells": [
  {
   "cell_type": "code",
   "execution_count": 1,
   "metadata": {},
   "outputs": [],
   "source": [
    "# Dependencies\n",
    "import pandas as pd\n",
    "import pymongo\n",
    "import time\n",
    "import datetime as dt"
   ]
  },
  {
   "cell_type": "code",
   "execution_count": 2,
   "metadata": {},
   "outputs": [],
   "source": [
    "conn = 'mongodb://localhost:27017'\n",
    "client = pymongo.MongoClient(conn)\n",
    "db = client.housing_db\n",
    "collection = db.housing_summary\n",
    "# df = pd.DataFrame(list(db.redfin.find().limit(100000)))\n",
    "# df = pd.DataFrame(list(db.redfin.find()))"
   ]
  },
  {
   "cell_type": "code",
   "execution_count": null,
   "metadata": {},
   "outputs": [],
   "source": [
    "sel_cols = ['period_begin',  \n",
    "'period_end', \n",
    "'region_name' ,\n",
    "'region_type',\n",
    "'total_homes_sold',\n",
    "'median_sale_price',\n",
    "'median_sale_ppsf',\n",
    "'median_new_listing_price',\n",
    "'pending_sales',\n",
    "'total_new_listings',\n",
    "'price_drops',\n",
    "'homes_delisted',\n",
    "'inventory',\n",
    "'total_active_listings',\n",
    "'median_days_on_market'\n",
    "]"
   ]
  },
  {
   "cell_type": "code",
   "execution_count": null,
   "metadata": {},
   "outputs": [],
   "source": [
    "df_reduced = df[sel_cols]"
   ]
  },
  {
   "cell_type": "code",
   "execution_count": null,
   "metadata": {},
   "outputs": [],
   "source": [
    "# df_reduced[\"period_begin\"].to_datetime()\n",
    "# \n",
    "begin_dates = pd.to_datetime(df_reduced[\"period_begin\"], infer_datetime_format=True)\n",
    "df_reduced[\"year\"] = begin_dates.dt.strftime(\"%Y\")\n",
    "df_reduced[\"month\"] = begin_dates.dt.strftime(\"%m\")\n",
    "\n",
    "df_reduced[\"year_month\"] = begin_dates.dt.strftime(\"%Y-%m\")\n",
    "\n",
    "states = []\n",
    "for region in df_reduced[\"region_name\"]:\n",
    "    reg_list = region.split(\",\")\n",
    "    if len(reg_list) == 2:\n",
    "        reg_state = reg_list[1][1:3]\n",
    "        states.append(reg_list[1][1:3])\n",
    "    else:\n",
    "        states.append(\"\")\n",
    "df_reduced[\"state\"] = states\n"
   ]
  },
  {
   "cell_type": "code",
   "execution_count": null,
   "metadata": {},
   "outputs": [],
   "source": [
    "df = df_reduced\n",
    "df.fillna('', inplace=True)\n",
    "df = df[(df.year == '2020')& (df.state == 'NY')]\n",
    "df\n"
   ]
  },
  {
   "cell_type": "code",
   "execution_count": null,
   "metadata": {},
   "outputs": [],
   "source": [
    "df[['price_drops','inventory', 'median_days_on_market','median_sale_price' ]]= df[['price_drops','inventory', 'median_days_on_market','median_sale_price' ]].apply(pd.to_numeric)\n",
    "df.dtypes"
   ]
  },
  {
   "cell_type": "code",
   "execution_count": null,
   "metadata": {},
   "outputs": [],
   "source": [
    "df= df.groupby(['month','region_name']).agg({'inventory':'mean',\n",
    "                         'median_days_on_market':'mean',\n",
    "                         'median_sale_price':'mean',\n",
    "                         'price_drops':'mean',\n",
    "                        })\n",
    "df"
   ]
  },
  {
   "cell_type": "code",
   "execution_count": 19,
   "metadata": {},
   "outputs": [],
   "source": [
    "df.reset_index(inplace = True)\n",
    "data_dict = df.to_dict(\"records\")"
   ]
  },
  {
   "cell_type": "code",
   "execution_count": 20,
   "metadata": {},
   "outputs": [
    {
     "data": {
      "text/plain": [
       "<pymongo.results.InsertManyResult at 0x7fdf7d4edc88>"
      ]
     },
     "execution_count": 20,
     "metadata": {},
     "output_type": "execute_result"
    }
   ],
   "source": [
    " # Insert dictionary into MongoDB as a document\n",
    "    collection.insert_many(data_dict)"
   ]
  },
  {
   "cell_type": "code",
   "execution_count": 4,
   "metadata": {},
   "outputs": [
    {
     "data": {
      "text/html": [
       "<div>\n",
       "<style scoped>\n",
       "    .dataframe tbody tr th:only-of-type {\n",
       "        vertical-align: middle;\n",
       "    }\n",
       "\n",
       "    .dataframe tbody tr th {\n",
       "        vertical-align: top;\n",
       "    }\n",
       "\n",
       "    .dataframe thead th {\n",
       "        text-align: right;\n",
       "    }\n",
       "</style>\n",
       "<table border=\"1\" class=\"dataframe\">\n",
       "  <thead>\n",
       "    <tr style=\"text-align: right;\">\n",
       "      <th></th>\n",
       "      <th>_id</th>\n",
       "      <th>month</th>\n",
       "      <th>region_name</th>\n",
       "      <th>inventory</th>\n",
       "      <th>median_days_on_market</th>\n",
       "      <th>median_sale_price</th>\n",
       "      <th>price_drops</th>\n",
       "    </tr>\n",
       "  </thead>\n",
       "  <tbody>\n",
       "    <tr>\n",
       "      <th>0</th>\n",
       "      <td>60952012d1bec65f2c9384ba</td>\n",
       "      <td>01</td>\n",
       "      <td>Albany County, NY</td>\n",
       "      <td>7941.0</td>\n",
       "      <td>58.658333</td>\n",
       "      <td>218320.825000</td>\n",
       "      <td>361.0</td>\n",
       "    </tr>\n",
       "    <tr>\n",
       "      <th>1</th>\n",
       "      <td>60952012d1bec65f2c9384bb</td>\n",
       "      <td>01</td>\n",
       "      <td>Albany, NY metro area</td>\n",
       "      <td>30142.0</td>\n",
       "      <td>61.941667</td>\n",
       "      <td>206972.016667</td>\n",
       "      <td>1167.0</td>\n",
       "    </tr>\n",
       "    <tr>\n",
       "      <th>2</th>\n",
       "      <td>60952012d1bec65f2c9384bc</td>\n",
       "      <td>01</td>\n",
       "      <td>Allegany County, NY</td>\n",
       "      <td>1533.0</td>\n",
       "      <td>95.091667</td>\n",
       "      <td>65026.925000</td>\n",
       "      <td>34.0</td>\n",
       "    </tr>\n",
       "    <tr>\n",
       "      <th>3</th>\n",
       "      <td>60952012d1bec65f2c9384bd</td>\n",
       "      <td>01</td>\n",
       "      <td>Amsterdam, NY metro area</td>\n",
       "      <td>1881.0</td>\n",
       "      <td>85.541667</td>\n",
       "      <td>106653.366667</td>\n",
       "      <td>63.0</td>\n",
       "    </tr>\n",
       "    <tr>\n",
       "      <th>4</th>\n",
       "      <td>60952012d1bec65f2c9384be</td>\n",
       "      <td>01</td>\n",
       "      <td>Auburn, NY metro area</td>\n",
       "      <td>2553.0</td>\n",
       "      <td>74.375000</td>\n",
       "      <td>115040.266667</td>\n",
       "      <td>87.0</td>\n",
       "    </tr>\n",
       "    <tr>\n",
       "      <th>...</th>\n",
       "      <td>...</td>\n",
       "      <td>...</td>\n",
       "      <td>...</td>\n",
       "      <td>...</td>\n",
       "      <td>...</td>\n",
       "      <td>...</td>\n",
       "      <td>...</td>\n",
       "    </tr>\n",
       "    <tr>\n",
       "      <th>619</th>\n",
       "      <td>60952012d1bec65f2c938725</td>\n",
       "      <td>12</td>\n",
       "      <td>Warren County, NY</td>\n",
       "      <td>2929.0</td>\n",
       "      <td>61.991667</td>\n",
       "      <td>232587.141667</td>\n",
       "      <td>61.0</td>\n",
       "    </tr>\n",
       "    <tr>\n",
       "      <th>620</th>\n",
       "      <td>60952012d1bec65f2c938726</td>\n",
       "      <td>12</td>\n",
       "      <td>Washington County, NY</td>\n",
       "      <td>2285.0</td>\n",
       "      <td>81.308333</td>\n",
       "      <td>167634.916667</td>\n",
       "      <td>49.0</td>\n",
       "    </tr>\n",
       "    <tr>\n",
       "      <th>621</th>\n",
       "      <td>60952012d1bec65f2c938727</td>\n",
       "      <td>12</td>\n",
       "      <td>Wayne County, NY</td>\n",
       "      <td>984.0</td>\n",
       "      <td>17.741667</td>\n",
       "      <td>155767.033333</td>\n",
       "      <td>31.0</td>\n",
       "    </tr>\n",
       "    <tr>\n",
       "      <th>622</th>\n",
       "      <td>60952012d1bec65f2c938728</td>\n",
       "      <td>12</td>\n",
       "      <td>Westchester County, NY</td>\n",
       "      <td>30541.0</td>\n",
       "      <td>41.150000</td>\n",
       "      <td>601293.875000</td>\n",
       "      <td>660.0</td>\n",
       "    </tr>\n",
       "    <tr>\n",
       "      <th>623</th>\n",
       "      <td>60952012d1bec65f2c938729</td>\n",
       "      <td>12</td>\n",
       "      <td>Wyoming County, NY</td>\n",
       "      <td>538.0</td>\n",
       "      <td>27.108333</td>\n",
       "      <td>133772.216667</td>\n",
       "      <td>27.0</td>\n",
       "    </tr>\n",
       "  </tbody>\n",
       "</table>\n",
       "<p>624 rows × 7 columns</p>\n",
       "</div>"
      ],
      "text/plain": [
       "                          _id month               region_name  inventory  \\\n",
       "0    60952012d1bec65f2c9384ba    01         Albany County, NY     7941.0   \n",
       "1    60952012d1bec65f2c9384bb    01     Albany, NY metro area    30142.0   \n",
       "2    60952012d1bec65f2c9384bc    01       Allegany County, NY     1533.0   \n",
       "3    60952012d1bec65f2c9384bd    01  Amsterdam, NY metro area     1881.0   \n",
       "4    60952012d1bec65f2c9384be    01     Auburn, NY metro area     2553.0   \n",
       "..                        ...   ...                       ...        ...   \n",
       "619  60952012d1bec65f2c938725    12         Warren County, NY     2929.0   \n",
       "620  60952012d1bec65f2c938726    12     Washington County, NY     2285.0   \n",
       "621  60952012d1bec65f2c938727    12          Wayne County, NY      984.0   \n",
       "622  60952012d1bec65f2c938728    12    Westchester County, NY    30541.0   \n",
       "623  60952012d1bec65f2c938729    12        Wyoming County, NY      538.0   \n",
       "\n",
       "     median_days_on_market  median_sale_price  price_drops  \n",
       "0                58.658333      218320.825000        361.0  \n",
       "1                61.941667      206972.016667       1167.0  \n",
       "2                95.091667       65026.925000         34.0  \n",
       "3                85.541667      106653.366667         63.0  \n",
       "4                74.375000      115040.266667         87.0  \n",
       "..                     ...                ...          ...  \n",
       "619              61.991667      232587.141667         61.0  \n",
       "620              81.308333      167634.916667         49.0  \n",
       "621              17.741667      155767.033333         31.0  \n",
       "622              41.150000      601293.875000        660.0  \n",
       "623              27.108333      133772.216667         27.0  \n",
       "\n",
       "[624 rows x 7 columns]"
      ]
     },
     "execution_count": 4,
     "metadata": {},
     "output_type": "execute_result"
    }
   ],
   "source": [
    "df = pd.DataFrame(list(db.housing_summary.find()))\n",
    "df"
   ]
  },
  {
   "cell_type": "code",
   "execution_count": 7,
   "metadata": {},
   "outputs": [
    {
     "ename": "SyntaxError",
     "evalue": "invalid syntax (<ipython-input-7-4c47d03ed132>, line 1)",
     "output_type": "error",
     "traceback": [
      "\u001b[0;36m  File \u001b[0;32m\"<ipython-input-7-4c47d03ed132>\"\u001b[0;36m, line \u001b[0;32m1\u001b[0m\n\u001b[0;31m    df['median_days_on_market', 'median_sale_price'] = df['median_days_on_market','median_sale_price'].round(2))\u001b[0m\n\u001b[0m                                                                                                               ^\u001b[0m\n\u001b[0;31mSyntaxError\u001b[0m\u001b[0;31m:\u001b[0m invalid syntax\n"
     ]
    }
   ],
   "source": [
    "df['median_days_on_market', 'median_sale_price'] = df['median_days_on_market','median_sale_price'].round(2)"
   ]
  },
  {
   "cell_type": "code",
   "execution_count": null,
   "metadata": {},
   "outputs": [],
   "source": []
  }
 ],
 "metadata": {
  "kernelspec": {
   "display_name": "Python [conda env:PythonData] *",
   "language": "python",
   "name": "conda-env-PythonData-py"
  },
  "language_info": {
   "codemirror_mode": {
    "name": "ipython",
    "version": 3
   },
   "file_extension": ".py",
   "mimetype": "text/x-python",
   "name": "python",
   "nbconvert_exporter": "python",
   "pygments_lexer": "ipython3",
   "version": "3.6.10"
  }
 },
 "nbformat": 4,
 "nbformat_minor": 4
}
