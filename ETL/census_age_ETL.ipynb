{
 "cells": [
  {
   "cell_type": "markdown",
   "metadata": {},
   "source": [
    "# Census Housing by Age and State ETL\n",
    "\n",
    "In this notebook data is extracted from the Census Bureau's American Community Survey 5-Year Data and loaded into a MongoDB database.\n",
    "\n",
    "We will be using the Subject Tables, extracting variable from the DEMOGRAPHIC CHARACTERISTICS FOR OCCUPIED HOUSING UNITS group (S2502). The variables in question are percentages of Total Occupied Home, Owner Occupied Homes, and Renter Occupied Homes by age and state over the years 2010-2019.\n",
    "\n",
    "\n"
   ]
  },
  {
   "cell_type": "code",
   "execution_count": 1,
   "metadata": {},
   "outputs": [],
   "source": [
    "#dependencies\n",
    "import pandas as pd\n",
    "import numpy as np\n",
    "import pymongo\n",
    "from census import Census\n",
    "from config import census_key\n",
    "api_key = census_key"
   ]
  },
  {
   "cell_type": "markdown",
   "metadata": {},
   "source": [
    "### Extract and Transform"
   ]
  },
  {
   "cell_type": "code",
   "execution_count": 2,
   "metadata": {},
   "outputs": [],
   "source": [
    "#transformation function to apply to every dataset \n",
    "\n",
    "def transform_census_age_data(census_data, year):\n",
    "    \n",
    "    data = census_data\n",
    "    \n",
    "    df = pd.DataFrame(data)\n",
    "    \n",
    "    rename_dict = {}\n",
    "\n",
    "    for name in df.columns:\n",
    "        code = name[-4:]\n",
    "        if code == \"011E\":\n",
    "            rename_dict[name] = \"<35\"\n",
    "        elif code == \"012E\":\n",
    "            rename_dict[name] = \"35-44\" \n",
    "        elif code == \"013E\":\n",
    "            rename_dict[name] = \"45-54\"\n",
    "        elif code == \"014E\":\n",
    "            rename_dict[name] = \"55-64\"\n",
    "        elif code == \"015E\":\n",
    "            rename_dict[name] = \"65-74\"\n",
    "        elif code == \"016E\":\n",
    "            rename_dict[name] = \"75-84\"\n",
    "        elif code == \"017E\":\n",
    "            rename_dict[name] = \">85\"\n",
    "\n",
    "    df.rename(columns = rename_dict, inplace = True)\n",
    "    \n",
    "    df[\"year\"] = year\n",
    "    \n",
    "    return df"
   ]
  },
  {
   "cell_type": "code",
   "execution_count": 3,
   "metadata": {},
   "outputs": [],
   "source": [
    "# API calls and transformation\n",
    "\n",
    "#dictionary to hold output\n",
    "census_extract = {\n",
    "    \"totals\" : [],\n",
    "    \"owner_occupied\" : [],\n",
    "    \"renter_occupied\" : []\n",
    "}\n",
    "\n",
    "for input_year in np.arange(2010,2020):\n",
    "    \n",
    "    c = Census(api_key, year=input_year)\n",
    "    \n",
    "    if input_year >= 2017: #accomodate for change in variable codes in 2017\n",
    "        \n",
    "        total_home_data = c.acs5st.get((\"NAME\", \"S2502_C02_011E\", \"S2502_C02_012E\", \"S2502_C02_013E\",\n",
    "                              \"S2502_C02_014E\",\"S2502_C02_015E\", \"S2502_C02_016E\", \"S2502_C02_017E\"), {'for': 'state:*'})\n",
    "\n",
    "        owner_occupied_data = c.acs5st.get((\"NAME\", \"S2502_C04_011E\", \"S2502_C04_012E\", \"S2502_C04_013E\",\n",
    "                              \"S2502_C04_014E\",\"S2502_C04_015E\", \"S2502_C04_016E\", \"S2502_C04_017E\"), {'for': 'state:*'})\n",
    "        \n",
    "        renter_occupied_data = c.acs5st.get((\"NAME\", \"S2502_C06_011E\", \"S2502_C06_012E\", \"S2502_C06_013E\",\n",
    "                              \"S2502_C06_014E\",\"S2502_C06_015E\", \"S2502_C06_016E\", \"S2502_C06_017E\"), {'for': 'state:*'})\n",
    "    else:\n",
    "        \n",
    "        total_home_data = c.acs5st.get((\"NAME\", \"S2502_C01_011E\", \"S2502_C01_012E\", \"S2502_C01_013E\",\n",
    "                              \"S2502_C01_014E\",\"S2502_C01_015E\", \"S2502_C01_016E\", \"S2502_C01_017E\"), {'for': 'state:*'})\n",
    "        \n",
    "        owner_occupied_data = c.acs5st.get((\"NAME\", \"S2502_C02_011E\", \"S2502_C02_012E\", \"S2502_C02_013E\",\n",
    "                              \"S2502_C02_014E\",\"S2502_C02_015E\", \"S2502_C02_016E\", \"S2502_C02_017E\"), {'for': 'state:*'})\n",
    "\n",
    "        renter_occupied_data = c.acs5st.get((\"NAME\", \"S2502_C03_011E\", \"S2502_C03_012E\", \"S2502_C03_013E\",\n",
    "                              \"S2502_C03_014E\",\"S2502_C03_015E\", \"S2502_C03_016E\", \"S2502_C03_017E\"), {'for': 'state:*'})\n",
    "    \n",
    "    #apply transformation function\n",
    "    total_home_df = transform_census_age_data(total_home_data, input_year)\n",
    "    owner_occupied_df = transform_census_age_data(owner_occupied_data, input_year)\n",
    "    renter_occupied_df = transform_census_age_data(renter_occupied_data, input_year)\n",
    "    \n",
    "    #append to output dictionary\n",
    "    census_extract[\"totals\"].append(total_home_df)\n",
    "    census_extract[\"owner_occupied\"].append(owner_occupied_df)\n",
    "    census_extract[\"renter_occupied\"].append(renter_occupied_df)\n"
   ]
  },
  {
   "cell_type": "code",
   "execution_count": 5,
   "metadata": {},
   "outputs": [],
   "source": [
    "#combine arrays into one large daaframe for each set\n",
    "census_combined = {key: pd.concat(value) for (key, value) in census_extract.items() }"
   ]
  },
  {
   "cell_type": "code",
   "execution_count": 6,
   "metadata": {},
   "outputs": [],
   "source": [
    "#convert to json format so it data can be loaded into MongoDB\n",
    "census_as_dictionaries = []\n",
    "\n",
    "for key in census_combined:\n",
    "    new_index = census_combined[key].reset_index()\n",
    "    dictionary = new_index.to_dict(\"records\")\n",
    "    census_as_dictionaries.append(dictionary)"
   ]
  },
  {
   "cell_type": "markdown",
   "metadata": {},
   "source": [
    "### Load"
   ]
  },
  {
   "cell_type": "code",
   "execution_count": 7,
   "metadata": {},
   "outputs": [],
   "source": [
    "#establish MongoDB connection\n",
    "conn = 'mongodb://localhost:27017'\n",
    "client = pymongo.MongoClient(conn)\n",
    "db = client.housing_db\n",
    "\n",
    "#load in totals\n",
    "db.total_housing_by_age.drop()\n",
    "db.total_housing_by_age.find()\n",
    "\n",
    "for record in census_as_dictionaries[0]:\n",
    "    db.total_housing_by_age.insert_one(record)\n",
    "\n",
    "#load in owner-occupied data\n",
    "db.owner_occupied_housing_by_age.drop()\n",
    "db.owner_occupied_housing_by_age.find()\n",
    "\n",
    "for record in census_as_dictionaries[1]:\n",
    "    db.owner_occupied_housing_by_age.insert_one(record)\n",
    "\n",
    "    \n",
    "#load in renter-occupied data\n",
    "db.renter_occupied_housing_by_age.drop()\n",
    "db.renter_occupied_housing_by_age.find()\n",
    "\n",
    "for record in census_as_dictionaries[2]:\n",
    "    db.renter_occupied_housing_by_age.insert_one(record)"
   ]
  }
 ],
 "metadata": {
  "kernelspec": {
   "display_name": "Python [conda env:PythonData] *",
   "language": "python",
   "name": "conda-env-PythonData-py"
  },
  "language_info": {
   "codemirror_mode": {
    "name": "ipython",
    "version": 3
   },
   "file_extension": ".py",
   "mimetype": "text/x-python",
   "name": "python",
   "nbconvert_exporter": "python",
   "pygments_lexer": "ipython3",
   "version": "3.6.10"
  }
 },
 "nbformat": 4,
 "nbformat_minor": 4
}
