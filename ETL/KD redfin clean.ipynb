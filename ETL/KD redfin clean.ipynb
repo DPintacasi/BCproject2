{
 "cells": [
  {
   "cell_type": "code",
   "execution_count": 1,
   "metadata": {},
   "outputs": [],
   "source": [
    "# Dependencies\n",
    "import pandas as pd\n",
    "import pymongo\n",
    "import time\n",
    "import datetime as dt\n",
    "import json\n",
    "import geojson"
   ]
  },
  {
   "cell_type": "code",
   "execution_count": 2,
   "metadata": {},
   "outputs": [],
   "source": [
    "#open geojson file\n",
    "with open(\"../static/data/us_states.geojson\", encoding=\"ISO-8859-1\") as fp:\n",
    "    geo = geojson.load(fp)\n",
    "    "
   ]
  },
  {
   "cell_type": "code",
   "execution_count": 4,
   "metadata": {},
   "outputs": [],
   "source": [
    "conn = 'mongodb://localhost:27017'\n",
    "client = pymongo.MongoClient(conn)\n",
    "db = client.housing_db\n",
    "collection = db.redfin\n",
    "result = collection.find({'region_type': 'county', 'period_begin': \"2020-12-28\"})\n",
    "\n",
    "df = pd.DataFrame(list(result))\n",
    "sel_cols = [\n",
    "\"region_name\" ,\n",
    "\"median_sale_price\",\n",
    "\"median_sale_ppsf\",\n",
    "\"inventory\"\n",
    "]\n",
    "rf_df = df[sel_cols]"
   ]
  },
  {
   "cell_type": "code",
   "execution_count": 5,
   "metadata": {},
   "outputs": [
    {
     "name": "stderr",
     "output_type": "stream",
     "text": [
      "/opt/anaconda3/envs/PythonData/lib/python3.6/site-packages/ipykernel_launcher.py:9: SettingWithCopyWarning: \n",
      "A value is trying to be set on a copy of a slice from a DataFrame.\n",
      "Try using .loc[row_indexer,col_indexer] = value instead\n",
      "\n",
      "See the caveats in the documentation: https://pandas.pydata.org/pandas-docs/stable/user_guide/indexing.html#returning-a-view-versus-a-copy\n",
      "  if __name__ == '__main__':\n"
     ]
    },
    {
     "data": {
      "text/html": [
       "<div>\n",
       "<style scoped>\n",
       "    .dataframe tbody tr th:only-of-type {\n",
       "        vertical-align: middle;\n",
       "    }\n",
       "\n",
       "    .dataframe tbody tr th {\n",
       "        vertical-align: top;\n",
       "    }\n",
       "\n",
       "    .dataframe thead th {\n",
       "        text-align: right;\n",
       "    }\n",
       "</style>\n",
       "<table border=\"1\" class=\"dataframe\">\n",
       "  <thead>\n",
       "    <tr style=\"text-align: right;\">\n",
       "      <th></th>\n",
       "      <th>region_name</th>\n",
       "      <th>median_sale_price</th>\n",
       "      <th>median_sale_ppsf</th>\n",
       "      <th>inventory</th>\n",
       "      <th>state</th>\n",
       "    </tr>\n",
       "  </thead>\n",
       "  <tbody>\n",
       "    <tr>\n",
       "      <th>0</th>\n",
       "      <td>Iowa County, WI</td>\n",
       "      <td>133000.0</td>\n",
       "      <td>89.285714</td>\n",
       "      <td>47.0</td>\n",
       "      <td>WI</td>\n",
       "    </tr>\n",
       "    <tr>\n",
       "      <th>1</th>\n",
       "      <td>Shoshone County, ID</td>\n",
       "      <td>240000.0</td>\n",
       "      <td>98.076198</td>\n",
       "      <td>21.0</td>\n",
       "      <td>ID</td>\n",
       "    </tr>\n",
       "    <tr>\n",
       "      <th>2</th>\n",
       "      <td>Washoe County, NV</td>\n",
       "      <td>403997.5</td>\n",
       "      <td>242.178544</td>\n",
       "      <td>959.0</td>\n",
       "      <td>NV</td>\n",
       "    </tr>\n",
       "    <tr>\n",
       "      <th>3</th>\n",
       "      <td>Washtenaw County, MI</td>\n",
       "      <td>285090.0</td>\n",
       "      <td>163.969466</td>\n",
       "      <td>767.0</td>\n",
       "      <td>MI</td>\n",
       "    </tr>\n",
       "    <tr>\n",
       "      <th>4</th>\n",
       "      <td>Indiana County, PA</td>\n",
       "      <td>125000.0</td>\n",
       "      <td>106.568221</td>\n",
       "      <td>161.0</td>\n",
       "      <td>PA</td>\n",
       "    </tr>\n",
       "  </tbody>\n",
       "</table>\n",
       "</div>"
      ],
      "text/plain": [
       "            region_name  median_sale_price  median_sale_ppsf  inventory state\n",
       "0       Iowa County, WI           133000.0         89.285714       47.0    WI\n",
       "1   Shoshone County, ID           240000.0         98.076198       21.0    ID\n",
       "2     Washoe County, NV           403997.5        242.178544      959.0    NV\n",
       "3  Washtenaw County, MI           285090.0        163.969466      767.0    MI\n",
       "4    Indiana County, PA           125000.0        106.568221      161.0    PA"
      ]
     },
     "execution_count": 5,
     "metadata": {},
     "output_type": "execute_result"
    }
   ],
   "source": [
    "states = []\n",
    "for region in rf_df[\"region_name\"]:\n",
    "    reg_list = region.split(\",\")\n",
    "    if len(reg_list) == 2:\n",
    "        reg_state = reg_list[1][1:3]\n",
    "        states.append(reg_list[1][1:3])\n",
    "    else:\n",
    "        states.append(\"\")\n",
    "rf_df[\"state\"] = states\n",
    "rf_df.head()"
   ]
  },
  {
   "cell_type": "code",
   "execution_count": 6,
   "metadata": {},
   "outputs": [
    {
     "data": {
      "text/html": [
       "<div>\n",
       "<style scoped>\n",
       "    .dataframe tbody tr th:only-of-type {\n",
       "        vertical-align: middle;\n",
       "    }\n",
       "\n",
       "    .dataframe tbody tr th {\n",
       "        vertical-align: top;\n",
       "    }\n",
       "\n",
       "    .dataframe thead tr th {\n",
       "        text-align: left;\n",
       "    }\n",
       "</style>\n",
       "<table border=\"1\" class=\"dataframe\">\n",
       "  <thead>\n",
       "    <tr>\n",
       "      <th></th>\n",
       "      <th>state</th>\n",
       "      <th>median_sale_price</th>\n",
       "      <th>median_sale_ppsf</th>\n",
       "      <th>inventory</th>\n",
       "    </tr>\n",
       "    <tr>\n",
       "      <th></th>\n",
       "      <th></th>\n",
       "      <th>mean</th>\n",
       "      <th>mean</th>\n",
       "      <th>mean</th>\n",
       "    </tr>\n",
       "  </thead>\n",
       "  <tbody>\n",
       "    <tr>\n",
       "      <th>0</th>\n",
       "      <td>AK</td>\n",
       "      <td>289511.807143</td>\n",
       "      <td>164.043588</td>\n",
       "      <td>222.266667</td>\n",
       "    </tr>\n",
       "    <tr>\n",
       "      <th>1</th>\n",
       "      <td>AL</td>\n",
       "      <td>194593.356000</td>\n",
       "      <td>103.353770</td>\n",
       "      <td>277.245614</td>\n",
       "    </tr>\n",
       "    <tr>\n",
       "      <th>2</th>\n",
       "      <td>AR</td>\n",
       "      <td>147617.659091</td>\n",
       "      <td>84.268390</td>\n",
       "      <td>94.726190</td>\n",
       "    </tr>\n",
       "    <tr>\n",
       "      <th>3</th>\n",
       "      <td>AZ</td>\n",
       "      <td>361455.233333</td>\n",
       "      <td>191.270833</td>\n",
       "      <td>2497.200000</td>\n",
       "    </tr>\n",
       "    <tr>\n",
       "      <th>4</th>\n",
       "      <td>CA</td>\n",
       "      <td>640382.469444</td>\n",
       "      <td>385.105803</td>\n",
       "      <td>1174.092593</td>\n",
       "    </tr>\n",
       "  </tbody>\n",
       "</table>\n",
       "</div>"
      ],
      "text/plain": [
       "  state median_sale_price median_sale_ppsf    inventory\n",
       "                     mean             mean         mean\n",
       "0    AK     289511.807143       164.043588   222.266667\n",
       "1    AL     194593.356000       103.353770   277.245614\n",
       "2    AR     147617.659091        84.268390    94.726190\n",
       "3    AZ     361455.233333       191.270833  2497.200000\n",
       "4    CA     640382.469444       385.105803  1174.092593"
      ]
     },
     "execution_count": 6,
     "metadata": {},
     "output_type": "execute_result"
    }
   ],
   "source": [
    "agg_df = rf_df.groupby(\"state\").agg([\"mean\"])\n",
    "agg_df.reset_index(inplace = True)\n",
    "agg_df.head()"
   ]
  },
  {
   "cell_type": "code",
   "execution_count": 7,
   "metadata": {},
   "outputs": [
    {
     "name": "stdout",
     "output_type": "stream",
     "text": [
      "Wisconin --> WI? True\n",
      "WI --> Wisconin? True\n",
      "Number of entries (50 states, DC, 5 Territories) == 56?  True\n"
     ]
    }
   ],
   "source": [
    "us_state_abbrev = {\n",
    "    'Alabama': 'AL',\n",
    "    'Alaska': 'AK',\n",
    "    'American Samoa': 'AS',\n",
    "    'Arizona': 'AZ',\n",
    "    'Arkansas': 'AR',\n",
    "    'California': 'CA',\n",
    "    'Colorado': 'CO',\n",
    "    'Connecticut': 'CT',\n",
    "    'Delaware': 'DE',\n",
    "    'District of Columbia': 'DC',\n",
    "    'Florida': 'FL',\n",
    "    'Georgia': 'GA',\n",
    "    'Guam': 'GU',\n",
    "    'Hawaii': 'HI',\n",
    "    'Idaho': 'ID',\n",
    "    'Illinois': 'IL',\n",
    "    'Indiana': 'IN',\n",
    "    'Iowa': 'IA',\n",
    "    'Kansas': 'KS',\n",
    "    'Kentucky': 'KY',\n",
    "    'Louisiana': 'LA',\n",
    "    'Maine': 'ME',\n",
    "    'Maryland': 'MD',\n",
    "    'Massachusetts': 'MA',\n",
    "    'Michigan': 'MI',\n",
    "    'Minnesota': 'MN',\n",
    "    'Mississippi': 'MS',\n",
    "    'Missouri': 'MO',\n",
    "    'Montana': 'MT',\n",
    "    'Nebraska': 'NE',\n",
    "    'Nevada': 'NV',\n",
    "    'New Hampshire': 'NH',\n",
    "    'New Jersey': 'NJ',\n",
    "    'New Mexico': 'NM',\n",
    "    'New York': 'NY',\n",
    "    'North Carolina': 'NC',\n",
    "    'North Dakota': 'ND',\n",
    "    'Northern Mariana Islands':'MP',\n",
    "    'Ohio': 'OH',\n",
    "    'Oklahoma': 'OK',\n",
    "    'Oregon': 'OR',\n",
    "    'Pennsylvania': 'PA',\n",
    "    'Puerto Rico': 'PR',\n",
    "    'Rhode Island': 'RI',\n",
    "    'South Carolina': 'SC',\n",
    "    'South Dakota': 'SD',\n",
    "    'Tennessee': 'TN',\n",
    "    'Texas': 'TX',\n",
    "    'Utah': 'UT',\n",
    "    'Vermont': 'VT',\n",
    "    'Virgin Islands': 'VI',\n",
    "    'Virginia': 'VA',\n",
    "    'Washington': 'WA',\n",
    "    'West Virginia': 'WV',\n",
    "    'Wisconsin': 'WI',\n",
    "    'Wyoming': 'WY'\n",
    "}\n",
    "\n",
    "# thank you to @kinghelix and @trevormarburger for this idea\n",
    "abbrev_us_state = dict(map(reversed, us_state_abbrev.items()))\n",
    "\n",
    "# Simple test examples\n",
    "if __name__ == '__main__':\n",
    "    print(\"Wisconin --> WI?\", us_state_abbrev['Wisconsin'] == 'WI')\n",
    "    print(\"WI --> Wisconin?\", abbrev_us_state['WI'] == 'Wisconsin')\n",
    "    print(\"Number of entries (50 states, DC, 5 Territories) == 56? \", 56 == len(us_state_abbrev))"
   ]
  },
  {
   "cell_type": "code",
   "execution_count": 8,
   "metadata": {},
   "outputs": [],
   "source": [
    "new_geo = geo\n",
    "for i in range(len(geo.features)):\n",
    "    NAME = geo.features[i].properties[\"name\"]\n",
    "    for row in agg_df.iterrows():\n",
    "        if us_state_abbrev[NAME] == row[1][0]:\n",
    "            new_geo.features[i].properties[\"median_sale_price\"] = round(row[1][1],2)\n",
    "            new_geo.features[i].properties[\"median_sale_ppsf\"] = round(row[1][2],2)\n",
    "            new_geo.features[i].properties[\"inventory\"] = round(row[1][3],2)         "
   ]
  },
  {
   "cell_type": "code",
   "execution_count": 9,
   "metadata": {},
   "outputs": [
    {
     "data": {
      "text/plain": [
       "{'name': 'Alabama',\n",
       " 'density': 94.65,\n",
       " 'median_sale_price': 194593.36,\n",
       " 'median_sale_ppsf': 103.35,\n",
       " 'inventory': 277.25}"
      ]
     },
     "execution_count": 9,
     "metadata": {},
     "output_type": "execute_result"
    }
   ],
   "source": [
    "new_geo.features[0].properties"
   ]
  },
  {
   "cell_type": "code",
   "execution_count": 10,
   "metadata": {},
   "outputs": [
    {
     "data": {
      "text/plain": [
       "<pymongo.results.InsertOneResult at 0x7fa9bec59bc8>"
      ]
     },
     "execution_count": 10,
     "metadata": {},
     "output_type": "execute_result"
    }
   ],
   "source": [
    "# #establish MongoDB connection\n",
    "conn = 'mongodb://localhost:27017'\n",
    "client = pymongo.MongoClient(conn)\n",
    "db = client.housing_db\n",
    "\n",
    "# #load in totals\n",
    "db.redfinmap.drop()\n",
    "db.redfinmap.find()\n",
    "\n",
    "db.redfinmap.insert_one(new_geo)"
   ]
  }
 ],
 "metadata": {
  "kernelspec": {
   "display_name": "Python [conda env:PythonData] *",
   "language": "python",
   "name": "conda-env-PythonData-py"
  },
  "language_info": {
   "codemirror_mode": {
    "name": "ipython",
    "version": 3
   },
   "file_extension": ".py",
   "mimetype": "text/x-python",
   "name": "python",
   "nbconvert_exporter": "python",
   "pygments_lexer": "ipython3",
   "version": "3.6.10"
  }
 },
 "nbformat": 4,
 "nbformat_minor": 4
}
