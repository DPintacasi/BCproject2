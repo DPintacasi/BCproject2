{
 "cells": [
  {
   "cell_type": "code",
   "execution_count": 1,
   "metadata": {},
   "outputs": [],
   "source": [
    "# Dependencies\n",
    "import pandas as pd\n",
    "import numpy as np\n",
    "import pymongo\n",
    "import time\n",
    "import datetime as dt\n",
    "import json\n",
    "import geojson"
   ]
  },
  {
   "cell_type": "code",
   "execution_count": 2,
   "metadata": {},
   "outputs": [],
   "source": [
    "#open geojson file\n",
    "with open(\"../static/data/us_states.geojson\", encoding=\"ISO-8859-1\") as fp:\n",
    "    geo = geojson.load(fp)\n",
    "    "
   ]
  },
  {
   "cell_type": "code",
   "execution_count": 3,
   "metadata": {},
   "outputs": [],
   "source": [
    "conn = 'mongodb://localhost:27017'\n",
    "client = pymongo.MongoClient(conn)\n",
    "db = client.housing_db\n",
    "collection = db.redfin\n",
    "result = collection.find({'region_type': 'county', 'period_begin': \"2020-12-28\"})\n",
    "\n",
    "df = pd.DataFrame(list(result))\n",
    "sel_cols = [\n",
    "\"region_name\" ,\n",
    "\"median_sale_price\",\n",
    "\"median_sale_ppsf\",\n",
    "\"inventory\"\n",
    "]\n",
    "rf_df = df[sel_cols]"
   ]
  },
  {
   "cell_type": "code",
   "execution_count": 4,
   "metadata": {},
   "outputs": [
    {
     "name": "stderr",
     "output_type": "stream",
     "text": [
      "C:\\Users\\kyucz\\anaconda3\\envs\\PythonData\\lib\\site-packages\\ipykernel_launcher.py:9: SettingWithCopyWarning: \n",
      "A value is trying to be set on a copy of a slice from a DataFrame.\n",
      "Try using .loc[row_indexer,col_indexer] = value instead\n",
      "\n",
      "See the caveats in the documentation: https://pandas.pydata.org/pandas-docs/stable/user_guide/indexing.html#returning-a-view-versus-a-copy\n",
      "  if __name__ == '__main__':\n"
     ]
    },
    {
     "data": {
      "text/html": [
       "<div>\n",
       "<style scoped>\n",
       "    .dataframe tbody tr th:only-of-type {\n",
       "        vertical-align: middle;\n",
       "    }\n",
       "\n",
       "    .dataframe tbody tr th {\n",
       "        vertical-align: top;\n",
       "    }\n",
       "\n",
       "    .dataframe thead th {\n",
       "        text-align: right;\n",
       "    }\n",
       "</style>\n",
       "<table border=\"1\" class=\"dataframe\">\n",
       "  <thead>\n",
       "    <tr style=\"text-align: right;\">\n",
       "      <th></th>\n",
       "      <th>region_name</th>\n",
       "      <th>median_sale_price</th>\n",
       "      <th>median_sale_ppsf</th>\n",
       "      <th>inventory</th>\n",
       "      <th>state</th>\n",
       "    </tr>\n",
       "  </thead>\n",
       "  <tbody>\n",
       "    <tr>\n",
       "      <th>0</th>\n",
       "      <td>Iowa County, WI</td>\n",
       "      <td>133000.0</td>\n",
       "      <td>89.28571428571429</td>\n",
       "      <td>47.0</td>\n",
       "      <td>WI</td>\n",
       "    </tr>\n",
       "    <tr>\n",
       "      <th>1</th>\n",
       "      <td>Shoshone County, ID</td>\n",
       "      <td>240000.0</td>\n",
       "      <td>98.07619766125987</td>\n",
       "      <td>21.0</td>\n",
       "      <td>ID</td>\n",
       "    </tr>\n",
       "    <tr>\n",
       "      <th>2</th>\n",
       "      <td>Washoe County, NV</td>\n",
       "      <td>403997.5</td>\n",
       "      <td>242.17854384812048</td>\n",
       "      <td>959.0</td>\n",
       "      <td>NV</td>\n",
       "    </tr>\n",
       "    <tr>\n",
       "      <th>3</th>\n",
       "      <td>Washtenaw County, MI</td>\n",
       "      <td>285090.0</td>\n",
       "      <td>163.96946564885496</td>\n",
       "      <td>767.0</td>\n",
       "      <td>MI</td>\n",
       "    </tr>\n",
       "    <tr>\n",
       "      <th>4</th>\n",
       "      <td>Indiana County, PA</td>\n",
       "      <td>125000.0</td>\n",
       "      <td>106.56822082379864</td>\n",
       "      <td>161.0</td>\n",
       "      <td>PA</td>\n",
       "    </tr>\n",
       "  </tbody>\n",
       "</table>\n",
       "</div>"
      ],
      "text/plain": [
       "            region_name median_sale_price    median_sale_ppsf inventory state\n",
       "0       Iowa County, WI          133000.0   89.28571428571429      47.0    WI\n",
       "1   Shoshone County, ID          240000.0   98.07619766125987      21.0    ID\n",
       "2     Washoe County, NV          403997.5  242.17854384812048     959.0    NV\n",
       "3  Washtenaw County, MI          285090.0  163.96946564885496     767.0    MI\n",
       "4    Indiana County, PA          125000.0  106.56822082379864     161.0    PA"
      ]
     },
     "execution_count": 4,
     "metadata": {},
     "output_type": "execute_result"
    }
   ],
   "source": [
    "states = []\n",
    "for region in rf_df[\"region_name\"]:\n",
    "    reg_list = region.split(\",\")\n",
    "    if len(reg_list) == 2:\n",
    "        reg_state = reg_list[1][1:3]\n",
    "        states.append(reg_list[1][1:3])\n",
    "    else:\n",
    "        states.append(\"\")\n",
    "rf_df[\"state\"] = states\n",
    "rf_df.head()"
   ]
  },
  {
   "cell_type": "code",
   "execution_count": 20,
   "metadata": {},
   "outputs": [
    {
     "name": "stderr",
     "output_type": "stream",
     "text": [
      "C:\\Users\\kyucz\\anaconda3\\envs\\PythonData\\lib\\site-packages\\ipykernel_launcher.py:1: SettingWithCopyWarning: \n",
      "A value is trying to be set on a copy of a slice from a DataFrame.\n",
      "Try using .loc[row_indexer,col_indexer] = value instead\n",
      "\n",
      "See the caveats in the documentation: https://pandas.pydata.org/pandas-docs/stable/user_guide/indexing.html#returning-a-view-versus-a-copy\n",
      "  \"\"\"Entry point for launching an IPython kernel.\n",
      "C:\\Users\\kyucz\\anaconda3\\envs\\PythonData\\lib\\site-packages\\ipykernel_launcher.py:3: SettingWithCopyWarning: \n",
      "A value is trying to be set on a copy of a slice from a DataFrame.\n",
      "Try using .loc[row_indexer,col_indexer] = value instead\n",
      "\n",
      "See the caveats in the documentation: https://pandas.pydata.org/pandas-docs/stable/user_guide/indexing.html#returning-a-view-versus-a-copy\n",
      "  This is separate from the ipykernel package so we can avoid doing imports until\n",
      "C:\\Users\\kyucz\\anaconda3\\envs\\PythonData\\lib\\site-packages\\ipykernel_launcher.py:5: SettingWithCopyWarning: \n",
      "A value is trying to be set on a copy of a slice from a DataFrame.\n",
      "Try using .loc[row_indexer,col_indexer] = value instead\n",
      "\n",
      "See the caveats in the documentation: https://pandas.pydata.org/pandas-docs/stable/user_guide/indexing.html#returning-a-view-versus-a-copy\n",
      "  \"\"\"\n"
     ]
    }
   ],
   "source": [
    "rf_df[\"median_sale_price\"] = pd.to_numeric(rf_df[\"median_sale_price\"])\n",
    "\n",
    "rf_df[\"median_sale_ppsf\"] = pd.to_numeric(rf_df[\"median_sale_ppsf\"])\n",
    "\n",
    "rf_df[\"inventory\"] = pd.to_numeric(rf_df[\"inventory\"])\n"
   ]
  },
  {
   "cell_type": "code",
   "execution_count": 15,
   "metadata": {
    "scrolled": true
   },
   "outputs": [
    {
     "data": {
      "text/html": [
       "<div>\n",
       "<style scoped>\n",
       "    .dataframe tbody tr th:only-of-type {\n",
       "        vertical-align: middle;\n",
       "    }\n",
       "\n",
       "    .dataframe tbody tr th {\n",
       "        vertical-align: top;\n",
       "    }\n",
       "\n",
       "    .dataframe thead th {\n",
       "        text-align: right;\n",
       "    }\n",
       "</style>\n",
       "<table border=\"1\" class=\"dataframe\">\n",
       "  <thead>\n",
       "    <tr style=\"text-align: right;\">\n",
       "      <th></th>\n",
       "      <th>state</th>\n",
       "      <th>median_sale_price</th>\n",
       "      <th>median_sale_ppsf</th>\n",
       "      <th>inventory</th>\n",
       "    </tr>\n",
       "  </thead>\n",
       "  <tbody>\n",
       "    <tr>\n",
       "      <th>0</th>\n",
       "      <td>AK</td>\n",
       "      <td>297752.3</td>\n",
       "      <td>166.906638</td>\n",
       "      <td>3334.0</td>\n",
       "    </tr>\n",
       "    <tr>\n",
       "      <th>1</th>\n",
       "      <td>AL</td>\n",
       "      <td>184653.0</td>\n",
       "      <td>103.432912</td>\n",
       "      <td>15803.0</td>\n",
       "    </tr>\n",
       "    <tr>\n",
       "      <th>2</th>\n",
       "      <td>AR</td>\n",
       "      <td>144000.0</td>\n",
       "      <td>89.964808</td>\n",
       "      <td>7957.0</td>\n",
       "    </tr>\n",
       "    <tr>\n",
       "      <th>3</th>\n",
       "      <td>AZ</td>\n",
       "      <td>344750.0</td>\n",
       "      <td>174.015895</td>\n",
       "      <td>37458.0</td>\n",
       "    </tr>\n",
       "    <tr>\n",
       "      <th>4</th>\n",
       "      <td>CA</td>\n",
       "      <td>574437.5</td>\n",
       "      <td>304.371932</td>\n",
       "      <td>126802.0</td>\n",
       "    </tr>\n",
       "  </tbody>\n",
       "</table>\n",
       "</div>"
      ],
      "text/plain": [
       "  state  median_sale_price  median_sale_ppsf  inventory\n",
       "0    AK           297752.3        166.906638     3334.0\n",
       "1    AL           184653.0        103.432912    15803.0\n",
       "2    AR           144000.0         89.964808     7957.0\n",
       "3    AZ           344750.0        174.015895    37458.0\n",
       "4    CA           574437.5        304.371932   126802.0"
      ]
     },
     "execution_count": 15,
     "metadata": {},
     "output_type": "execute_result"
    }
   ],
   "source": [
    "# agg_df = rf_df.groupby(\"state\").agg([\"mean\"])\n",
    "agg_df = rf_df.groupby(\"state\").agg({\"median_sale_price\": \"median\", \"median_sale_ppsf\": \"median\", \"inventory\": \"sum\"})\n",
    "agg_df.reset_index(inplace = True)\n",
    "agg_df.head()"
   ]
  },
  {
   "cell_type": "code",
   "execution_count": 16,
   "metadata": {},
   "outputs": [
    {
     "name": "stdout",
     "output_type": "stream",
     "text": [
      "Wisconin --> WI? True\n",
      "WI --> Wisconin? True\n",
      "Number of entries (50 states, DC, 5 Territories) == 56?  True\n"
     ]
    }
   ],
   "source": [
    "us_state_abbrev = {\n",
    "    'Alabama': 'AL',\n",
    "    'Alaska': 'AK',\n",
    "    'American Samoa': 'AS',\n",
    "    'Arizona': 'AZ',\n",
    "    'Arkansas': 'AR',\n",
    "    'California': 'CA',\n",
    "    'Colorado': 'CO',\n",
    "    'Connecticut': 'CT',\n",
    "    'Delaware': 'DE',\n",
    "    'District of Columbia': 'DC',\n",
    "    'Florida': 'FL',\n",
    "    'Georgia': 'GA',\n",
    "    'Guam': 'GU',\n",
    "    'Hawaii': 'HI',\n",
    "    'Idaho': 'ID',\n",
    "    'Illinois': 'IL',\n",
    "    'Indiana': 'IN',\n",
    "    'Iowa': 'IA',\n",
    "    'Kansas': 'KS',\n",
    "    'Kentucky': 'KY',\n",
    "    'Louisiana': 'LA',\n",
    "    'Maine': 'ME',\n",
    "    'Maryland': 'MD',\n",
    "    'Massachusetts': 'MA',\n",
    "    'Michigan': 'MI',\n",
    "    'Minnesota': 'MN',\n",
    "    'Mississippi': 'MS',\n",
    "    'Missouri': 'MO',\n",
    "    'Montana': 'MT',\n",
    "    'Nebraska': 'NE',\n",
    "    'Nevada': 'NV',\n",
    "    'New Hampshire': 'NH',\n",
    "    'New Jersey': 'NJ',\n",
    "    'New Mexico': 'NM',\n",
    "    'New York': 'NY',\n",
    "    'North Carolina': 'NC',\n",
    "    'North Dakota': 'ND',\n",
    "    'Northern Mariana Islands':'MP',\n",
    "    'Ohio': 'OH',\n",
    "    'Oklahoma': 'OK',\n",
    "    'Oregon': 'OR',\n",
    "    'Pennsylvania': 'PA',\n",
    "    'Puerto Rico': 'PR',\n",
    "    'Rhode Island': 'RI',\n",
    "    'South Carolina': 'SC',\n",
    "    'South Dakota': 'SD',\n",
    "    'Tennessee': 'TN',\n",
    "    'Texas': 'TX',\n",
    "    'Utah': 'UT',\n",
    "    'Vermont': 'VT',\n",
    "    'Virgin Islands': 'VI',\n",
    "    'Virginia': 'VA',\n",
    "    'Washington': 'WA',\n",
    "    'West Virginia': 'WV',\n",
    "    'Wisconsin': 'WI',\n",
    "    'Wyoming': 'WY'\n",
    "}\n",
    "\n",
    "# thank you to @kinghelix and @trevormarburger for this idea\n",
    "abbrev_us_state = dict(map(reversed, us_state_abbrev.items()))\n",
    "\n",
    "# Simple test examples\n",
    "if __name__ == '__main__':\n",
    "    print(\"Wisconin --> WI?\", us_state_abbrev['Wisconsin'] == 'WI')\n",
    "    print(\"WI --> Wisconin?\", abbrev_us_state['WI'] == 'Wisconsin')\n",
    "    print(\"Number of entries (50 states, DC, 5 Territories) == 56? \", 56 == len(us_state_abbrev))"
   ]
  },
  {
   "cell_type": "code",
   "execution_count": 17,
   "metadata": {},
   "outputs": [],
   "source": [
    "new_geo = geo\n",
    "for i in range(len(geo.features)):\n",
    "    NAME = geo.features[i].properties[\"name\"]\n",
    "    for row in agg_df.iterrows():\n",
    "        if us_state_abbrev[NAME] == row[1][0]:\n",
    "            new_geo.features[i].properties[\"median_sale_price\"] = round(row[1][1],2)\n",
    "            new_geo.features[i].properties[\"median_sale_ppsf\"] = round(row[1][2],2)\n",
    "            new_geo.features[i].properties[\"inventory\"] = round(row[1][3],2)         "
   ]
  },
  {
   "cell_type": "code",
   "execution_count": 18,
   "metadata": {},
   "outputs": [
    {
     "data": {
      "text/plain": [
       "{'name': 'Alabama',\n",
       " 'density': 94.65,\n",
       " 'median_sale_price': 184653.0,\n",
       " 'median_sale_ppsf': 103.43,\n",
       " 'inventory': 15803.0}"
      ]
     },
     "execution_count": 18,
     "metadata": {},
     "output_type": "execute_result"
    }
   ],
   "source": [
    "new_geo.features[0].properties"
   ]
  },
  {
   "cell_type": "code",
   "execution_count": 19,
   "metadata": {},
   "outputs": [
    {
     "data": {
      "text/plain": [
       "<pymongo.results.InsertOneResult at 0x228e93accc8>"
      ]
     },
     "execution_count": 19,
     "metadata": {},
     "output_type": "execute_result"
    }
   ],
   "source": [
    "# #establish MongoDB connection\n",
    "conn = 'mongodb://localhost:27017'\n",
    "client = pymongo.MongoClient(conn)\n",
    "db = client.housing_db\n",
    "\n",
    "# #load in totals\n",
    "db.redfinmap.drop()\n",
    "db.redfinmap.find()\n",
    "\n",
    "db.redfinmap.insert_one(new_geo)"
   ]
  },
  {
   "cell_type": "code",
   "execution_count": null,
   "metadata": {},
   "outputs": [],
   "source": []
  }
 ],
 "metadata": {
  "kernelspec": {
   "display_name": "Python [conda env:PythonData] *",
   "language": "python",
   "name": "conda-env-PythonData-py"
  },
  "language_info": {
   "codemirror_mode": {
    "name": "ipython",
    "version": 3
   },
   "file_extension": ".py",
   "mimetype": "text/x-python",
   "name": "python",
   "nbconvert_exporter": "python",
   "pygments_lexer": "ipython3",
   "version": "3.6.10"
  }
 },
 "nbformat": 4,
 "nbformat_minor": 4
}
