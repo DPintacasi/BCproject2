{
 "cells": [
  {
   "cell_type": "code",
   "execution_count": 1,
   "metadata": {},
   "outputs": [],
   "source": [
    "# Dependencies\n",
    "import pandas as pd\n",
    "import pymongo\n",
    "import time\n",
    "import datetime as dt"
   ]
  },
  {
   "cell_type": "code",
   "execution_count": 2,
   "metadata": {},
   "outputs": [],
   "source": [
    "conn = 'mongodb://localhost:27017'\n",
    "client = pymongo.MongoClient(conn)\n",
    "db = client.housing_db\n",
    "collection = db.redfinclean\n",
    "df = pd.DataFrame(list(db.redfin.find().limit(10000)))"
   ]
  },
  {
   "cell_type": "code",
   "execution_count": 3,
   "metadata": {},
   "outputs": [],
   "source": [
    "sel_cols = ['period_begin',  \n",
    "'period_end', \n",
    "'region_name' ,\n",
    "'region_type',\n",
    "'total_homes_sold',\n",
    "'median_sale_price',\n",
    "'median_sale_ppsf'\n",
    "]"
   ]
  },
  {
   "cell_type": "code",
   "execution_count": 4,
   "metadata": {},
   "outputs": [],
   "source": [
    "df_reduced = df[sel_cols]"
   ]
  },
  {
   "cell_type": "code",
   "execution_count": 5,
   "metadata": {},
   "outputs": [
    {
     "name": "stderr",
     "output_type": "stream",
     "text": [
      "/opt/anaconda3/envs/PythonData/lib/python3.6/site-packages/ipykernel_launcher.py:4: SettingWithCopyWarning: \n",
      "A value is trying to be set on a copy of a slice from a DataFrame.\n",
      "Try using .loc[row_indexer,col_indexer] = value instead\n",
      "\n",
      "See the caveats in the documentation: https://pandas.pydata.org/pandas-docs/stable/user_guide/indexing.html#returning-a-view-versus-a-copy\n",
      "  after removing the cwd from sys.path.\n",
      "/opt/anaconda3/envs/PythonData/lib/python3.6/site-packages/ipykernel_launcher.py:6: SettingWithCopyWarning: \n",
      "A value is trying to be set on a copy of a slice from a DataFrame.\n",
      "Try using .loc[row_indexer,col_indexer] = value instead\n",
      "\n",
      "See the caveats in the documentation: https://pandas.pydata.org/pandas-docs/stable/user_guide/indexing.html#returning-a-view-versus-a-copy\n",
      "  \n",
      "/opt/anaconda3/envs/PythonData/lib/python3.6/site-packages/ipykernel_launcher.py:16: SettingWithCopyWarning: \n",
      "A value is trying to be set on a copy of a slice from a DataFrame.\n",
      "Try using .loc[row_indexer,col_indexer] = value instead\n",
      "\n",
      "See the caveats in the documentation: https://pandas.pydata.org/pandas-docs/stable/user_guide/indexing.html#returning-a-view-versus-a-copy\n",
      "  app.launch_new_instance()\n"
     ]
    }
   ],
   "source": [
    "# df_reduced[\"period_begin\"].to_datetime()\n",
    "# \n",
    "begin_dates = pd.to_datetime(df_reduced[\"period_begin\"], infer_datetime_format=True)\n",
    "df_reduced[\"year\"] = begin_dates.dt.strftime(\"%Y\")\n",
    "\n",
    "df_reduced[\"year_month\"] = begin_dates.dt.strftime(\"%Y-%m\")\n",
    "\n",
    "states = []\n",
    "for region in df_reduced[\"region_name\"]:\n",
    "    reg_list = region.split(\",\")\n",
    "    if len(reg_list) == 2:\n",
    "        reg_state = reg_list[1][1:3]\n",
    "        states.append(reg_list[1][1:3])\n",
    "    else:\n",
    "        states.append(\"\")\n",
    "df_reduced[\"state\"] = states"
   ]
  },
  {
   "cell_type": "code",
   "execution_count": 6,
   "metadata": {},
   "outputs": [],
   "source": [
    "df_nometro = df_reduced.loc[df_reduced[\"region_type\"] != \"metro\"]"
   ]
  },
  {
   "cell_type": "code",
   "execution_count": 7,
   "metadata": {},
   "outputs": [
    {
     "data": {
      "text/html": [
       "<div>\n",
       "<style scoped>\n",
       "    .dataframe tbody tr th:only-of-type {\n",
       "        vertical-align: middle;\n",
       "    }\n",
       "\n",
       "    .dataframe tbody tr th {\n",
       "        vertical-align: top;\n",
       "    }\n",
       "\n",
       "    .dataframe thead th {\n",
       "        text-align: right;\n",
       "    }\n",
       "</style>\n",
       "<table border=\"1\" class=\"dataframe\">\n",
       "  <thead>\n",
       "    <tr style=\"text-align: right;\">\n",
       "      <th></th>\n",
       "      <th>period_begin</th>\n",
       "      <th>period_end</th>\n",
       "      <th>region_name</th>\n",
       "      <th>region_type</th>\n",
       "      <th>total_homes_sold</th>\n",
       "      <th>median_sale_price</th>\n",
       "      <th>median_sale_ppsf</th>\n",
       "      <th>year</th>\n",
       "      <th>year_month</th>\n",
       "      <th>state</th>\n",
       "    </tr>\n",
       "  </thead>\n",
       "  <tbody>\n",
       "    <tr>\n",
       "      <th>0</th>\n",
       "      <td>2019-09-09</td>\n",
       "      <td>2019-09-15</td>\n",
       "      <td>Haywood County, NC</td>\n",
       "      <td>county</td>\n",
       "      <td>34.0</td>\n",
       "      <td>240000.0</td>\n",
       "      <td>143.20260577745609</td>\n",
       "      <td>2019</td>\n",
       "      <td>2019-09</td>\n",
       "      <td>NC</td>\n",
       "    </tr>\n",
       "    <tr>\n",
       "      <th>1</th>\n",
       "      <td>2018-11-05</td>\n",
       "      <td>2018-11-11</td>\n",
       "      <td>Eaton County, MI</td>\n",
       "      <td>county</td>\n",
       "      <td>19.0</td>\n",
       "      <td>187500.0</td>\n",
       "      <td>121.765601217656</td>\n",
       "      <td>2018</td>\n",
       "      <td>2018-11</td>\n",
       "      <td>MI</td>\n",
       "    </tr>\n",
       "    <tr>\n",
       "      <th>2</th>\n",
       "      <td>2020-07-20</td>\n",
       "      <td>2020-07-26</td>\n",
       "      <td>Greenville County, SC</td>\n",
       "      <td>county</td>\n",
       "      <td>207.0</td>\n",
       "      <td>255000.0</td>\n",
       "      <td>121.04283054003724</td>\n",
       "      <td>2020</td>\n",
       "      <td>2020-07</td>\n",
       "      <td>SC</td>\n",
       "    </tr>\n",
       "    <tr>\n",
       "      <th>3</th>\n",
       "      <td>2019-02-04</td>\n",
       "      <td>2019-02-10</td>\n",
       "      <td>Dane County, WI</td>\n",
       "      <td>county</td>\n",
       "      <td>65.0</td>\n",
       "      <td>274000.0</td>\n",
       "      <td>147.58389261744966</td>\n",
       "      <td>2019</td>\n",
       "      <td>2019-02</td>\n",
       "      <td>WI</td>\n",
       "    </tr>\n",
       "    <tr>\n",
       "      <th>4</th>\n",
       "      <td>2017-05-01</td>\n",
       "      <td>2017-05-07</td>\n",
       "      <td>Aroostook County, ME</td>\n",
       "      <td>county</td>\n",
       "      <td>8.0</td>\n",
       "      <td>58700.0</td>\n",
       "      <td>45.265126771662885</td>\n",
       "      <td>2017</td>\n",
       "      <td>2017-05</td>\n",
       "      <td>ME</td>\n",
       "    </tr>\n",
       "  </tbody>\n",
       "</table>\n",
       "</div>"
      ],
      "text/plain": [
       "  period_begin  period_end            region_name region_type  \\\n",
       "0   2019-09-09  2019-09-15     Haywood County, NC      county   \n",
       "1   2018-11-05  2018-11-11       Eaton County, MI      county   \n",
       "2   2020-07-20  2020-07-26  Greenville County, SC      county   \n",
       "3   2019-02-04  2019-02-10        Dane County, WI      county   \n",
       "4   2017-05-01  2017-05-07   Aroostook County, ME      county   \n",
       "\n",
       "  total_homes_sold median_sale_price    median_sale_ppsf  year year_month  \\\n",
       "0             34.0          240000.0  143.20260577745609  2019    2019-09   \n",
       "1             19.0          187500.0    121.765601217656  2018    2018-11   \n",
       "2            207.0          255000.0  121.04283054003724  2020    2020-07   \n",
       "3             65.0          274000.0  147.58389261744966  2019    2019-02   \n",
       "4              8.0           58700.0  45.265126771662885  2017    2017-05   \n",
       "\n",
       "  state  \n",
       "0    NC  \n",
       "1    MI  \n",
       "2    SC  \n",
       "3    WI  \n",
       "4    ME  "
      ]
     },
     "execution_count": 7,
     "metadata": {},
     "output_type": "execute_result"
    }
   ],
   "source": [
    "df_nometro.head()"
   ]
  },
  {
   "cell_type": "code",
   "execution_count": 8,
   "metadata": {},
   "outputs": [
    {
     "data": {
      "text/plain": [
       "county    7921\n",
       "Name: region_type, dtype: int64"
      ]
     },
     "execution_count": 8,
     "metadata": {},
     "output_type": "execute_result"
    }
   ],
   "source": [
    "df_nometro[\"region_type\"].value_counts()\n"
   ]
  },
  {
   "cell_type": "code",
   "execution_count": 9,
   "metadata": {},
   "outputs": [
    {
     "name": "stderr",
     "output_type": "stream",
     "text": [
      "/opt/anaconda3/envs/PythonData/lib/python3.6/site-packages/pandas/core/frame.py:4153: SettingWithCopyWarning: \n",
      "A value is trying to be set on a copy of a slice from a DataFrame\n",
      "\n",
      "See the caveats in the documentation: https://pandas.pydata.org/pandas-docs/stable/user_guide/indexing.html#returning-a-view-versus-a-copy\n",
      "  downcast=downcast,\n"
     ]
    },
    {
     "data": {
      "text/html": [
       "<div>\n",
       "<style scoped>\n",
       "    .dataframe tbody tr th:only-of-type {\n",
       "        vertical-align: middle;\n",
       "    }\n",
       "\n",
       "    .dataframe tbody tr th {\n",
       "        vertical-align: top;\n",
       "    }\n",
       "\n",
       "    .dataframe thead th {\n",
       "        text-align: right;\n",
       "    }\n",
       "</style>\n",
       "<table border=\"1\" class=\"dataframe\">\n",
       "  <thead>\n",
       "    <tr style=\"text-align: right;\">\n",
       "      <th></th>\n",
       "      <th>period_begin</th>\n",
       "      <th>period_end</th>\n",
       "      <th>region_name</th>\n",
       "      <th>region_type</th>\n",
       "      <th>total_homes_sold</th>\n",
       "      <th>median_sale_price</th>\n",
       "      <th>median_sale_ppsf</th>\n",
       "      <th>year</th>\n",
       "      <th>year_month</th>\n",
       "      <th>state</th>\n",
       "    </tr>\n",
       "  </thead>\n",
       "  <tbody>\n",
       "    <tr>\n",
       "      <th>0</th>\n",
       "      <td>2019-09-09</td>\n",
       "      <td>2019-09-15</td>\n",
       "      <td>Haywood County, NC</td>\n",
       "      <td>county</td>\n",
       "      <td>34.0</td>\n",
       "      <td>240000.0</td>\n",
       "      <td>143.20260577745609</td>\n",
       "      <td>2019</td>\n",
       "      <td>2019-09</td>\n",
       "      <td>NC</td>\n",
       "    </tr>\n",
       "    <tr>\n",
       "      <th>1</th>\n",
       "      <td>2018-11-05</td>\n",
       "      <td>2018-11-11</td>\n",
       "      <td>Eaton County, MI</td>\n",
       "      <td>county</td>\n",
       "      <td>19.0</td>\n",
       "      <td>187500.0</td>\n",
       "      <td>121.765601217656</td>\n",
       "      <td>2018</td>\n",
       "      <td>2018-11</td>\n",
       "      <td>MI</td>\n",
       "    </tr>\n",
       "    <tr>\n",
       "      <th>2</th>\n",
       "      <td>2020-07-20</td>\n",
       "      <td>2020-07-26</td>\n",
       "      <td>Greenville County, SC</td>\n",
       "      <td>county</td>\n",
       "      <td>207.0</td>\n",
       "      <td>255000.0</td>\n",
       "      <td>121.04283054003724</td>\n",
       "      <td>2020</td>\n",
       "      <td>2020-07</td>\n",
       "      <td>SC</td>\n",
       "    </tr>\n",
       "    <tr>\n",
       "      <th>3</th>\n",
       "      <td>2019-02-04</td>\n",
       "      <td>2019-02-10</td>\n",
       "      <td>Dane County, WI</td>\n",
       "      <td>county</td>\n",
       "      <td>65.0</td>\n",
       "      <td>274000.0</td>\n",
       "      <td>147.58389261744966</td>\n",
       "      <td>2019</td>\n",
       "      <td>2019-02</td>\n",
       "      <td>WI</td>\n",
       "    </tr>\n",
       "    <tr>\n",
       "      <th>4</th>\n",
       "      <td>2017-05-01</td>\n",
       "      <td>2017-05-07</td>\n",
       "      <td>Aroostook County, ME</td>\n",
       "      <td>county</td>\n",
       "      <td>8.0</td>\n",
       "      <td>58700.0</td>\n",
       "      <td>45.265126771662885</td>\n",
       "      <td>2017</td>\n",
       "      <td>2017-05</td>\n",
       "      <td>ME</td>\n",
       "    </tr>\n",
       "  </tbody>\n",
       "</table>\n",
       "</div>"
      ],
      "text/plain": [
       "  period_begin  period_end            region_name region_type  \\\n",
       "0   2019-09-09  2019-09-15     Haywood County, NC      county   \n",
       "1   2018-11-05  2018-11-11       Eaton County, MI      county   \n",
       "2   2020-07-20  2020-07-26  Greenville County, SC      county   \n",
       "3   2019-02-04  2019-02-10        Dane County, WI      county   \n",
       "4   2017-05-01  2017-05-07   Aroostook County, ME      county   \n",
       "\n",
       "  total_homes_sold median_sale_price    median_sale_ppsf  year year_month  \\\n",
       "0             34.0          240000.0  143.20260577745609  2019    2019-09   \n",
       "1             19.0          187500.0    121.765601217656  2018    2018-11   \n",
       "2            207.0          255000.0  121.04283054003724  2020    2020-07   \n",
       "3             65.0          274000.0  147.58389261744966  2019    2019-02   \n",
       "4              8.0           58700.0  45.265126771662885  2017    2017-05   \n",
       "\n",
       "  state  \n",
       "0    NC  \n",
       "1    MI  \n",
       "2    SC  \n",
       "3    WI  \n",
       "4    ME  "
      ]
     },
     "execution_count": 9,
     "metadata": {},
     "output_type": "execute_result"
    }
   ],
   "source": [
    "\n",
    "df_nometro.fillna('', inplace=True)\n",
    "df_nometro.head()\n"
   ]
  },
  {
   "cell_type": "code",
   "execution_count": null,
   "metadata": {},
   "outputs": [],
   "source": []
  },
  {
   "cell_type": "code",
   "execution_count": 10,
   "metadata": {},
   "outputs": [],
   "source": [
    "final_cols = ['year',\n",
    "              'state',\n",
    "'total_homes_sold',\n",
    "'median_sale_price',\n",
    "]"
   ]
  },
  {
   "cell_type": "code",
   "execution_count": 11,
   "metadata": {},
   "outputs": [],
   "source": [
    "df_redfinclean = df_nometro[final_cols]"
   ]
  },
  {
   "cell_type": "code",
   "execution_count": 12,
   "metadata": {},
   "outputs": [],
   "source": [
    "data_dict = df_redfinclean.to_dict(\"records\")"
   ]
  },
  {
   "cell_type": "code",
   "execution_count": 13,
   "metadata": {},
   "outputs": [
    {
     "data": {
      "text/plain": [
       "<pymongo.results.InsertManyResult at 0x116acad08>"
      ]
     },
     "execution_count": 13,
     "metadata": {},
     "output_type": "execute_result"
    }
   ],
   "source": [
    "collection.insert_many(data_dict)"
   ]
  },
  {
   "cell_type": "code",
   "execution_count": null,
   "metadata": {},
   "outputs": [],
   "source": []
  }
 ],
 "metadata": {
  "kernelspec": {
   "display_name": "Python [conda env:PythonData] *",
   "language": "python",
   "name": "conda-env-PythonData-py"
  },
  "language_info": {
   "codemirror_mode": {
    "name": "ipython",
    "version": 3
   },
   "file_extension": ".py",
   "mimetype": "text/x-python",
   "name": "python",
   "nbconvert_exporter": "python",
   "pygments_lexer": "ipython3",
   "version": "3.6.10"
  }
 },
 "nbformat": 4,
 "nbformat_minor": 4
}
